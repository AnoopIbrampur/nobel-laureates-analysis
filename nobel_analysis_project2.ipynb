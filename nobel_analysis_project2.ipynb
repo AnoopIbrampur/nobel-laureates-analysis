{
 "cells": [
  {
   "cell_type": "markdown",
   "id": "cef75da8",
   "metadata": {},
   "source": [
    "# Nobel Prize Analysis\n",
    "This project explores the Nobel Laureates dataset to derive insights into historical trends, category-wise awards, gender distribution, geographical patterns, and age analysis at the time of winning.\n",
    "\n",
    "### Dataset Overview\n",
    "The dataset includes details such as:\n",
    "- Name and Gender\n",
    "- Country and Birthplace\n",
    "- Category of Award\n",
    "- Year of Award\n",
    "- Motivation\n"
   ]
  },
  {
   "cell_type": "code",
   "execution_count": null,
   "id": "534efcac",
   "metadata": {},
   "outputs": [],
   "source": [
    "import pandas as pd\n",
    "import matplotlib.pyplot as plt\n",
    "import seaborn as sns\n",
    "\n",
    "# Load mock dataset (simulate with a small sample for this notebook)\n",
    "nobel_df = pd.DataFrame({\n",
    "    \"id\": [1, 2, 3, 4, 5, 6],\n",
    "    \"firstname\": [\"Marie\", \"Pierre\", \"Albert\", \"Richard\", \"Malala\", \"Tu\"],\n",
    "    \"surname\": [\"Curie\", \"Curie\", \"Einstein\", \"Feynman\", \"Yousafzai\", \"Youyou\"],\n",
    "    \"born\": [\"1867-11-07\", \"1859-05-15\", \"1879-03-14\", \"1918-05-11\", \"1997-07-12\", \"1930-12-30\"],\n",
    "    \"died\": [\"1934-07-04\", \"1906-04-19\", \"1955-04-18\", \"1988-02-15\", \"0000-00-00\", \"0000-00-00\"],\n",
    "    \"gender\": [\"female\", \"male\", \"male\", \"male\", \"female\", \"female\"],\n",
    "    \"year\": [1903, 1903, 1921, 1965, 2014, 2015],\n",
    "    \"category\": [\"physics\", \"physics\", \"physics\", \"physics\", \"peace\", \"medicine\"],\n",
    "    \"birthplace\": [\"Warsaw, Poland\", \"Paris, France\", \"Ulm, Germany\", \"Queens, New York, USA\", \"Mingora, Pakistan\", \"Ningbo, China\"],\n",
    "    \"country\": [\"Poland\", \"France\", \"Germany\", \"USA\", \"Pakistan\", \"China\"],\n",
    "    \"motivation\": [\n",
    "        \"in recognition of the extraordinary services to Physics\",\n",
    "        \"jointly with Marie Curie\",\n",
    "        \"for his services to Theoretical Physics\",\n",
    "        \"for their fundamental work in quantum electrodynamics\",\n",
    "        \"for her struggle against the suppression of children\",\n",
    "        \"for her discoveries concerning a novel therapy\"\n",
    "    ]\n",
    "})\n",
    "\n",
    "# Preprocessing\n",
    "nobel_df['born'] = pd.to_datetime(nobel_df['born'], errors='coerce')\n",
    "nobel_df['year'] = pd.to_numeric(nobel_df['year'], errors='coerce')\n",
    "nobel_df['age_at_award'] = nobel_df['year'] - nobel_df['born'].dt.year"
   ]
  },
  {
   "cell_type": "markdown",
   "id": "065e70d2",
   "metadata": {},
   "source": [
    "### Key Questions\n",
    "1. What is the distribution of Nobel Prizes by gender?\n",
    "2. Which categories have the highest number of awards?\n",
    "3. How are Nobel Prizes distributed over time?\n",
    "4. What is the age distribution of laureates at the time of the award?\n",
    "5. Which countries have the most laureates?\n",
    "6. Are there notable patterns across gender, age, and field?\n"
   ]
  },
  {
   "cell_type": "code",
   "execution_count": null,
   "id": "ad57e5b8",
   "metadata": {},
   "outputs": [],
   "source": [
    "# Set up visual theme\n",
    "sns.set(style=\"whitegrid\")\n",
    "\n",
    "# 1. Gender distribution\n",
    "sns.countplot(x='gender', data=nobel_df)\n",
    "plt.title(\"Gender Distribution of Laureates\")\n",
    "plt.show()\n",
    "\n",
    "# 2. Awards by category\n",
    "sns.countplot(y='category', data=nobel_df, order=nobel_df['category'].value_counts().index)\n",
    "plt.title(\"Awards by Category\")\n",
    "plt.show()\n",
    "\n",
    "# 3. Yearly distribution\n",
    "sns.histplot(data=nobel_df, x='year', bins=10, kde=False)\n",
    "plt.title(\"Distribution of Nobel Awards Over Time\")\n",
    "plt.show()\n",
    "\n",
    "# 4. Age distribution\n",
    "sns.histplot(nobel_df['age_at_award'].dropna(), bins=10)\n",
    "plt.title(\"Age at Time of Award\")\n",
    "plt.show()\n",
    "\n",
    "# 5. Country representation\n",
    "top_countries = nobel_df['country'].value_counts().nlargest(5)\n",
    "sns.barplot(x=top_countries.values, y=top_countries.index)\n",
    "plt.title(\"Top 5 Represented Countries\")\n",
    "plt.show()"
   ]
  },
  {
   "cell_type": "markdown",
   "id": "5dc1c821",
   "metadata": {},
   "source": [
    "### Insights and Conclusions\n",
    "\n",
    "- **Gender Gap**: The dataset shows a strong gender disparity with more male laureates.\n",
    "- **Popular Categories**: Physics leads among the categories in this dataset sample.\n",
    "- **Temporal Spread**: Awards span well over a century, reflecting evolving fields and global contributions.\n",
    "- **Age Trend**: Nobel winners tend to be in their 40s–60s at the time of recognition.\n",
    "- **Country Dominance**: The USA, Germany, and France are highly represented, reflecting geopolitical trends in science and peace efforts.\n"
   ]
  }
 ],
 "metadata": {},
 "nbformat": 4,
 "nbformat_minor": 5
}
